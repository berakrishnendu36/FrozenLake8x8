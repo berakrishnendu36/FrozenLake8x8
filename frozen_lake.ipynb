{
 "cells": [
  {
   "cell_type": "code",
   "execution_count": 45,
   "id": "1dd9aa57",
   "metadata": {},
   "outputs": [],
   "source": [
    "import gym\n",
    "import numpy as np\n",
    "import sys\n",
    "import math\n",
    "import matplotlib.pyplot as plt"
   ]
  },
  {
   "cell_type": "code",
   "execution_count": 46,
   "id": "93164996",
   "metadata": {},
   "outputs": [
    {
     "name": "stdout",
     "output_type": "stream",
     "text": [
      "\n",
      "\u001b[41mS\u001b[0mFFFFFFF\n",
      "FFFFFFFF\n",
      "FFFHFFFF\n",
      "FFFFFHFF\n",
      "FFFHFFFF\n",
      "FHHFFFHF\n",
      "FHFFHFHF\n",
      "FFFHFFFG\n"
     ]
    }
   ],
   "source": [
    "env = gym.make('FrozenLake8x8-v1',is_slippery=True)\n",
    "env.reset()\n",
    "env.render()"
   ]
  },
  {
   "cell_type": "code",
   "execution_count": 47,
   "id": "36d9528a",
   "metadata": {},
   "outputs": [
    {
     "name": "stdout",
     "output_type": "stream",
     "text": [
      "Action space: Discrete(4)\n",
      "Observation space: Discrete(64)\n",
      "[(0.3333333333333333, 0, 0.0, False), (0.3333333333333333, 0, 0.0, False), (0.3333333333333333, 8, 0.0, False)]\n"
     ]
    }
   ],
   "source": [
    "print(\"Action space:\",env.action_space)\n",
    "print(\"Observation space:\",env.observation_space)\n",
    "print(env.env.P[0][0])"
   ]
  },
  {
   "cell_type": "code",
   "execution_count": 48,
   "id": "904be49c",
   "metadata": {},
   "outputs": [],
   "source": [
    "# Making the Value Iteration function\n",
    "def value_iteration(env, max_iterations=100000, lmbda=0.9):\n",
    "    stateValue = [0.0 for i in range(env.nS)]\n",
    "    newStateValue = stateValue.copy()\n",
    "    for i in range(max_iterations):\n",
    "        for state in range(env.nS):\n",
    "            action_values = []      \n",
    "            for action in range(env.nA):\n",
    "                state_value = 0\n",
    "                possible_outcomes = env.P[state][action]\n",
    "                # Looping through all possible outcomes\n",
    "                for j in range(len(possible_outcomes)):\n",
    "                    prob, next_state, reward, done = possible_outcomes[j]\n",
    "                    # Calculating discounted return for a particular state, action and outcome\n",
    "                    state_action_value = prob * (reward + lmbda*stateValue[next_state])\n",
    "                    # Cumulating discounted returns\n",
    "                    state_value += state_action_value\n",
    "                action_values.append(state_value)      #the value of each action\n",
    "            best_action_value = max(action_values)  # choose the action which gives the maximum value\n",
    "            newStateValue[state] = best_action_value  #update the value of the state\n",
    "        if(i>1000): # Minimum of 1000 iterations\n",
    "            if sum(newStateValue) - sum(stateValue) < 1e-06:   # if there is negligible difference break the loop\n",
    "                print(i)\n",
    "                break\n",
    "            else:\n",
    "                stateValue = newStateValue.copy()\n",
    "    return stateValue"
   ]
  },
  {
   "cell_type": "code",
   "execution_count": 49,
   "id": "6b6679ef",
   "metadata": {},
   "outputs": [
    {
     "name": "stdout",
     "output_type": "stream",
     "text": [
      "1111\n",
      "[0.0064108912815232085, 0.00854794697951718, 0.012300317286384527, 0.017789320550647733, 0.025082046498299933, 0.03247080333189779, 0.0395712562509592, 0.04297836235696054, 0.006023903411765516, 0.007644977030444534, 0.01091149443628938, 0.016426432658884448, 0.026054028163411163, 0.036194005596881046, 0.04935462054488879, 0.05730453374806438, 0.005090083214914669, 0.005853053829178521, 0.006775210743408158, 0.0, 0.025570762558790244, 0.03882131363621707, 0.0676396603966135, 0.08435600477559718, 0.004225449498432062, 0.004769395452182863, 0.005819570561396816, 0.007854034453089, 0.020360582903621444, 0.0, 0.09175495298189552, 0.12919105827841182, 0.0031807826859803815, 0.0031964683940820656, 0.002704796110223013, 0.0, 0.03444385339956883, 0.06195140385421746, 0.10901916262624436, 0.2096908845050669, 0.001868960492726569, 0.0, 0.0, 0.010850772035126206, 0.03250088878868907, 0.06304169177085218, 0.0, 0.3600877011155629, 0.0011802425517389897, 0.0, 0.0013771200869944838, 0.0036683633963248818, 0.0, 0.11568669911111909, 0.0, 0.6305137720641599, 0.0008850738798613842, 0.0007744408262065266, 0.0009220663886358124, 0.0, 0.13824884792626713, 0.32258064516129004, 0.6144393241167432, 0.0]\n"
     ]
    }
   ],
   "source": [
    "stateValues = value_iteration(env)\n",
    "print(stateValues)"
   ]
  },
  {
   "cell_type": "code",
   "execution_count": 50,
   "id": "1da458bb",
   "metadata": {},
   "outputs": [],
   "source": [
    "# Determining the policy from given stateValues\n",
    "def get_policy(env,stateValue, lmbda=0.9):\n",
    "    policy = [0 for i in range(env.nS)]\n",
    "    for state in range(env.nS):\n",
    "        action_values = []\n",
    "        for action in range(env.nA):\n",
    "            action_value = 0\n",
    "            for i in range(len(env.P[state][action])):\n",
    "                prob, next_state, r, _ = env.P[state][action][i]\n",
    "                action_value += prob * (r + lmbda * stateValue[next_state])\n",
    "            action_values.append(action_value)\n",
    "        # Determining the best action from maximum state action values\n",
    "        best_action = np.argmax(np.asarray(action_values))\n",
    "        policy[state] = best_action # Setting the best action as policy for that state\n",
    "    return policy "
   ]
  },
  {
   "cell_type": "code",
   "execution_count": 51,
   "id": "ca7decdc",
   "metadata": {},
   "outputs": [
    {
     "name": "stdout",
     "output_type": "stream",
     "text": [
      "[[3 2 2 2 2 2 2 2]\n",
      " [3 3 3 3 2 2 2 1]\n",
      " [3 3 0 0 2 3 2 1]\n",
      " [3 3 3 1 0 0 2 1]\n",
      " [3 3 0 0 2 1 3 2]\n",
      " [0 0 0 1 3 0 0 2]\n",
      " [0 0 1 0 0 0 0 2]\n",
      " [0 1 0 0 1 1 1 0]]\n"
     ]
    }
   ],
   "source": [
    "policy = get_policy(env, stateValues)\n",
    "print(np.reshape(policy, (8,8)))"
   ]
  },
  {
   "cell_type": "code",
   "execution_count": 52,
   "id": "e11f1174",
   "metadata": {},
   "outputs": [
    {
     "data": {
      "image/png": "[encoded data removed]",
      "text/plain": [
       "<Figure size 432x288 with 1 Axes>"
      ]
     },
     "metadata": {
      "needs_background": "light"
     },
     "output_type": "display_data"
    }
   ],
   "source": [
    "xAxis = [i for i in range(64)]\n",
    "yAxis = stateValues\n",
    "plt.bar(xAxis, yAxis)\n",
    "plt.xlabel(\"State\")\n",
    "plt.ylabel(\"State Value\")\n",
    "plt.title(\"State value function\")\n",
    "plt.show()"
   ]
  },
  {
   "cell_type": "code",
   "execution_count": 53,
   "id": "5be488bc",
   "metadata": {},
   "outputs": [
    {
     "data": {
      "image/png": "[encoded data removed]",
      "text/plain": [
       "<Figure size 432x288 with 1 Axes>"
      ]
     },
     "metadata": {
      "needs_background": "light"
     },
     "output_type": "display_data"
    }
   ],
   "source": [
    "xAxis = [i for i in range(64)]\n",
    "yAxis = policy\n",
    "plt.plot(xAxis, yAxis, 'bs')\n",
    "plt.xlabel(\"State\")\n",
    "plt.ylabel(\"Action\")\n",
    "plt.title(\"Policy function\")\n",
    "plt.show()"
   ]
  },
  {
   "cell_type": "code",
   "execution_count": 75,
   "id": "86774024",
   "metadata": {},
   "outputs": [],
   "source": [
    "def run_simulation(env, policy, episodes):\n",
    "    misses = 0\n",
    "    steps_list = []\n",
    "    progress = 0.0\n",
    "    avg_steps = []\n",
    "    miss_rate = []\n",
    "    for ep in range(episodes):\n",
    "        state = env.reset()\n",
    "        steps = 0\n",
    "        while True:\n",
    "            action = policy[state]\n",
    "            state, reward, done, _ = env.step(action)\n",
    "            steps+=1\n",
    "            if(done and reward==1):\n",
    "                steps_list.append(steps)\n",
    "                avg_steps.append(sum(steps_list)/len(steps_list))\n",
    "                break\n",
    "            elif(done and reward==0):\n",
    "                misses+=1\n",
    "                \n",
    "                break\n",
    "        miss_rate.append(misses/(ep+1))\n",
    "        curr_progress = ep*100/episodes\n",
    "        if(curr_progress-progress>=0.1):\n",
    "            sys.stdout.write('\\r')\n",
    "            sys.stdout.write(f\"Completed: {ep*100/episodes}%\")\n",
    "            sys.stdout.flush()\n",
    "            progress = curr_progress\n",
    "    print(\"\\n###########################_YOUR_SCORE_###########################\")\n",
    "    print(\"Average number of steps taken:\",sum(steps_list)/len(steps_list))\n",
    "    print(\"Percentage of misses:\",misses*100/episodes)\n",
    "    print(\"Minimum number of steps:\", min(steps_list))\n",
    "    \n",
    "    xAxis = [i for i in range(len(steps_list))]\n",
    "    yAxis = avg_steps\n",
    "    plt.plot(xAxis, yAxis)\n",
    "    plt.xlabel(\"Episodes\")\n",
    "    plt.ylabel(\"Avg. Steps\")\n",
    "    plt.title(\"Average steps taken\")\n",
    "    plt.show()\n",
    "    \n",
    "    xAxis = [i for i in range(episodes)]\n",
    "    yAxis = miss_rate\n",
    "    plt.plot(xAxis, yAxis)\n",
    "    plt.xlabel(\"Episodes\")\n",
    "    plt.ylabel(\"Miss rate\")\n",
    "    plt.title(\"Average number of misses\")\n",
    "    plt.show()"
   ]
  },
  {
   "cell_type": "code",
   "execution_count": 77,
   "id": "ff2945e3",
   "metadata": {},
   "outputs": [
    {
     "name": "stdout",
     "output_type": "stream",
     "text": [
      "Completed: 99.97%\n",
      "###########################_YOUR_SCORE_###########################\n",
      "Average number of steps taken: 71.86809485313931\n",
      "Percentage of misses: 25.78\n",
      "Minimum number of steps: 15\n"
     ]
    },
    {
     "data": {
      "image/png": "[encoded data removed]",
      "text/plain": [
       "<Figure size 432x288 with 1 Axes>"
      ]
     },
     "metadata": {
      "needs_background": "light"
     },
     "output_type": "display_data"
    },
    {
     "data": {
      "image/png": "[encoded data removed]",
      "text/plain": [
       "<Figure size 432x288 with 1 Axes>"
      ]
     },
     "metadata": {
      "needs_background": "light"
     },
     "output_type": "display_data"
    }
   ],
   "source": [
    "run_simulation(env,policy,10000)"
   ]
  },
  {
   "cell_type": "code",
   "execution_count": null,
   "id": "bc4ca8d1",
   "metadata": {},
   "outputs": [],
   "source": []
  }
 ],
 "metadata": {
  "kernelspec": {
   "display_name": "Python 3 (ipykernel)",
   "language": "python",
   "name": "python3"
  },
  "language_info": {
   "codemirror_mode": {
    "name": "ipython",
    "version": 3
   },
   "file_extension": ".py",
   "mimetype": "text/x-python",
   "name": "python",
   "nbconvert_exporter": "python",
   "pygments_lexer": "ipython3",
   "version": "3.9.7"
  }
 },
 "nbformat": 4,
 "nbformat_minor": 5
}
